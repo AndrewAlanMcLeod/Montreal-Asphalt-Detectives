{
 "cells": [
  {
   "cell_type": "code",
   "execution_count": 17,
   "id": "1933debb",
   "metadata": {},
   "outputs": [],
   "source": [
    "import folium\n",
    "import pandas as pd\n",
    "map = folium.Map(location=[45.508888, -73.561668], tiles=\"Stamen Terrain\")"
   ]
  },
  {
   "cell_type": "code",
   "execution_count": 23,
   "id": "8d5b08d7",
   "metadata": {},
   "outputs": [],
   "source": [
    "df = pd.read_csv(\"Collisions.csv\")\n",
    "Collisions = folium.FeatureGroup(\"Collisions\")\n",
    "df = df.reset_index() \n",
    "for index, row in df.iterrows():\n",
    "    Collisions.add_child(folium.Circle(location = [row['Long'],row['Lat']], popup =row['Street'], icon=folium.Icon(color='blue')))\n",
    "map.add_child(Collisions)\n",
    "map.save(\"BorealisMap.html\")"
   ]
  },
  {
   "cell_type": "code",
   "execution_count": null,
   "id": "3f62a2de",
   "metadata": {},
   "outputs": [],
   "source": []
  }
 ],
 "metadata": {
  "kernelspec": {
   "display_name": "Python 3",
   "language": "python",
   "name": "python3"
  },
  "language_info": {
   "codemirror_mode": {
    "name": "ipython",
    "version": 3
   },
   "file_extension": ".py",
   "mimetype": "text/x-python",
   "name": "python",
   "nbconvert_exporter": "python",
   "pygments_lexer": "ipython3",
   "version": "3.8.8"
  }
 },
 "nbformat": 4,
 "nbformat_minor": 5
}
